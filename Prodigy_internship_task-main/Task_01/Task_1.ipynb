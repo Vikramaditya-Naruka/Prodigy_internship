{
 "cells": [
  {
   "cell_type": "markdown",
   "id": "85357c76-eec6-4ff5-8e43-7fe4a837f717",
   "metadata": {},
   "source": [
    "# Task-01\n",
    "\n",
    "<i>Create a bar chart or histogram to visualize the distribution of a categorical or continuous variable, such as the distribution of ages or genders in a population.</i>"
   ]
  },
  {
   "cell_type": "markdown",
   "id": "69867631-8870-4ed1-aff6-faed54157092",
   "metadata": {},
   "source": [
    "# About Dataset"
   ]
  },
  {
   "cell_type": "markdown",
   "id": "4b9220c7-4c76-489f-8c4a-9b8376352e3e",
   "metadata": {},
   "source": [
    "The dataset provides yearly information on China's population, including the total population, male and female populations, and urban and rural populations, all measured in ten thousand people.This data helps in understanding demographic changes and trends over the years."
   ]
  },
  {
   "cell_type": "markdown",
   "id": "a416d696-1d6d-4baa-80cb-9d570f5bb30c",
   "metadata": {},
   "source": [
    "## Importing the necessary libraries"
   ]
  },
  {
   "cell_type": "code",
   "execution_count": 19,
   "id": "a8c1dacd-c1f4-40b5-a759-757cb434aded",
   "metadata": {},
   "outputs": [],
   "source": [
    "import pandas as pd\n",
    "import matplotlib.pyplot as plt\n",
    "import seaborn as sns"
   ]
  },
  {
   "cell_type": "markdown",
   "id": "b9d66524-ba71-498c-ba4d-ef008bc38d96",
   "metadata": {},
   "source": [
    "## Reading the dataset"
   ]
  },
  {
   "cell_type": "code",
   "execution_count": 21,
   "id": "4adbb81c-2ef2-4f9f-9301-815578dec55a",
   "metadata": {},
   "outputs": [
    {
     "data": {
      "text/html": [
       "<div>\n",
       "<style scoped>\n",
       "    .dataframe tbody tr th:only-of-type {\n",
       "        vertical-align: middle;\n",
       "    }\n",
       "\n",
       "    .dataframe tbody tr th {\n",
       "        vertical-align: top;\n",
       "    }\n",
       "\n",
       "    .dataframe thead th {\n",
       "        text-align: right;\n",
       "    }\n",
       "</style>\n",
       "<table border=\"1\" class=\"dataframe\">\n",
       "  <thead>\n",
       "    <tr style=\"text-align: right;\">\n",
       "      <th></th>\n",
       "      <th>Unnamed: 0</th>\n",
       "      <th>At the end of the total population (ten thousand people)</th>\n",
       "      <th>The male population (ten thousand people)</th>\n",
       "      <th>Female population (ten thousand people)</th>\n",
       "      <th>Urban population (ten thousand people)</th>\n",
       "      <th>Rural population (ten thousand people)</th>\n",
       "    </tr>\n",
       "  </thead>\n",
       "  <tbody>\n",
       "    <tr>\n",
       "      <th>0</th>\n",
       "      <td>2021</td>\n",
       "      <td>141260</td>\n",
       "      <td>72311</td>\n",
       "      <td>68949</td>\n",
       "      <td>91425</td>\n",
       "      <td>49835</td>\n",
       "    </tr>\n",
       "    <tr>\n",
       "      <th>1</th>\n",
       "      <td>2020</td>\n",
       "      <td>141212</td>\n",
       "      <td>72357</td>\n",
       "      <td>68855</td>\n",
       "      <td>90220</td>\n",
       "      <td>50992</td>\n",
       "    </tr>\n",
       "    <tr>\n",
       "      <th>2</th>\n",
       "      <td>2019</td>\n",
       "      <td>141008</td>\n",
       "      <td>72039</td>\n",
       "      <td>68969</td>\n",
       "      <td>88426</td>\n",
       "      <td>52582</td>\n",
       "    </tr>\n",
       "    <tr>\n",
       "      <th>3</th>\n",
       "      <td>2018</td>\n",
       "      <td>140541</td>\n",
       "      <td>71864</td>\n",
       "      <td>68677</td>\n",
       "      <td>86433</td>\n",
       "      <td>54108</td>\n",
       "    </tr>\n",
       "    <tr>\n",
       "      <th>4</th>\n",
       "      <td>2017</td>\n",
       "      <td>140011</td>\n",
       "      <td>71650</td>\n",
       "      <td>68361</td>\n",
       "      <td>84343</td>\n",
       "      <td>55668</td>\n",
       "    </tr>\n",
       "    <tr>\n",
       "      <th>...</th>\n",
       "      <td>...</td>\n",
       "      <td>...</td>\n",
       "      <td>...</td>\n",
       "      <td>...</td>\n",
       "      <td>...</td>\n",
       "      <td>...</td>\n",
       "    </tr>\n",
       "    <tr>\n",
       "      <th>68</th>\n",
       "      <td>1953</td>\n",
       "      <td>58796</td>\n",
       "      <td>30468</td>\n",
       "      <td>28328</td>\n",
       "      <td>7826</td>\n",
       "      <td>50970</td>\n",
       "    </tr>\n",
       "    <tr>\n",
       "      <th>69</th>\n",
       "      <td>1952</td>\n",
       "      <td>57482</td>\n",
       "      <td>29833</td>\n",
       "      <td>27649</td>\n",
       "      <td>7163</td>\n",
       "      <td>50319</td>\n",
       "    </tr>\n",
       "    <tr>\n",
       "      <th>70</th>\n",
       "      <td>1951</td>\n",
       "      <td>56300</td>\n",
       "      <td>29231</td>\n",
       "      <td>27069</td>\n",
       "      <td>6632</td>\n",
       "      <td>49668</td>\n",
       "    </tr>\n",
       "    <tr>\n",
       "      <th>71</th>\n",
       "      <td>1950</td>\n",
       "      <td>55196</td>\n",
       "      <td>28669</td>\n",
       "      <td>26527</td>\n",
       "      <td>6169</td>\n",
       "      <td>49027</td>\n",
       "    </tr>\n",
       "    <tr>\n",
       "      <th>72</th>\n",
       "      <td>1949</td>\n",
       "      <td>54167</td>\n",
       "      <td>28145</td>\n",
       "      <td>26022</td>\n",
       "      <td>5765</td>\n",
       "      <td>48402</td>\n",
       "    </tr>\n",
       "  </tbody>\n",
       "</table>\n",
       "<p>73 rows × 6 columns</p>\n",
       "</div>"
      ],
      "text/plain": [
       "    Unnamed: 0  At the end of the total population (ten thousand people)  \\\n",
       "0         2021                                             141260          \n",
       "1         2020                                             141212          \n",
       "2         2019                                             141008          \n",
       "3         2018                                             140541          \n",
       "4         2017                                             140011          \n",
       "..         ...                                                ...          \n",
       "68        1953                                              58796          \n",
       "69        1952                                              57482          \n",
       "70        1951                                              56300          \n",
       "71        1950                                              55196          \n",
       "72        1949                                              54167          \n",
       "\n",
       "    The male population (ten thousand people)  \\\n",
       "0                                       72311   \n",
       "1                                       72357   \n",
       "2                                       72039   \n",
       "3                                       71864   \n",
       "4                                       71650   \n",
       "..                                        ...   \n",
       "68                                      30468   \n",
       "69                                      29833   \n",
       "70                                      29231   \n",
       "71                                      28669   \n",
       "72                                      28145   \n",
       "\n",
       "    Female population (ten thousand people)  \\\n",
       "0                                     68949   \n",
       "1                                     68855   \n",
       "2                                     68969   \n",
       "3                                     68677   \n",
       "4                                     68361   \n",
       "..                                      ...   \n",
       "68                                    28328   \n",
       "69                                    27649   \n",
       "70                                    27069   \n",
       "71                                    26527   \n",
       "72                                    26022   \n",
       "\n",
       "    Urban population (ten thousand people)  \\\n",
       "0                                    91425   \n",
       "1                                    90220   \n",
       "2                                    88426   \n",
       "3                                    86433   \n",
       "4                                    84343   \n",
       "..                                     ...   \n",
       "68                                    7826   \n",
       "69                                    7163   \n",
       "70                                    6632   \n",
       "71                                    6169   \n",
       "72                                    5765   \n",
       "\n",
       "    Rural population (ten thousand people)  \n",
       "0                                    49835  \n",
       "1                                    50992  \n",
       "2                                    52582  \n",
       "3                                    54108  \n",
       "4                                    55668  \n",
       "..                                     ...  \n",
       "68                                   50970  \n",
       "69                                   50319  \n",
       "70                                   49668  \n",
       "71                                   49027  \n",
       "72                                   48402  \n",
       "\n",
       "[73 rows x 6 columns]"
      ]
     },
     "execution_count": 21,
     "metadata": {},
     "output_type": "execute_result"
    }
   ],
   "source": [
    "df = pd.read_csv('Chinas Population En.csv')\n",
    "df"
   ]
  },
  {
   "cell_type": "markdown",
   "id": "eb4770d0-7fa4-481e-b563-5d131f20425a",
   "metadata": {},
   "source": [
    "## Information about the dataframe"
   ]
  },
  {
   "cell_type": "code",
   "execution_count": 23,
   "id": "91c615d8-5f7f-4c50-b16c-2d6bf45d79f1",
   "metadata": {},
   "outputs": [
    {
     "data": {
      "text/plain": [
       "(73, 6)"
      ]
     },
     "execution_count": 23,
     "metadata": {},
     "output_type": "execute_result"
    }
   ],
   "source": [
    "df.shape"
   ]
  },
  {
   "cell_type": "code",
   "execution_count": 25,
   "id": "7d06c4b7-d854-430e-ba36-223a9e9f8151",
   "metadata": {},
   "outputs": [
    {
     "name": "stdout",
     "output_type": "stream",
     "text": [
      "<class 'pandas.core.frame.DataFrame'>\n",
      "RangeIndex: 73 entries, 0 to 72\n",
      "Data columns (total 6 columns):\n",
      " #   Column                                                    Non-Null Count  Dtype\n",
      "---  ------                                                    --------------  -----\n",
      " 0   Unnamed: 0                                                73 non-null     int64\n",
      " 1   At the end of the total population (ten thousand people)  73 non-null     int64\n",
      " 2   The male population (ten thousand people)                 73 non-null     int64\n",
      " 3   Female population (ten thousand people)                   73 non-null     int64\n",
      " 4   Urban population (ten thousand people)                    73 non-null     int64\n",
      " 5   Rural population (ten thousand people)                    73 non-null     int64\n",
      "dtypes: int64(6)\n",
      "memory usage: 3.6 KB\n"
     ]
    }
   ],
   "source": [
    "df.info()"
   ]
  },
  {
   "cell_type": "code",
   "execution_count": 27,
   "id": "c38e44f8-c675-4f2e-9032-fee826699de2",
   "metadata": {},
   "outputs": [
    {
     "data": {
      "text/plain": [
       "Index(['Unnamed: 0',\n",
       "       'At the end of the total population (ten thousand people)',\n",
       "       'The male population (ten thousand people)',\n",
       "       'Female population (ten thousand people)',\n",
       "       'Urban population (ten thousand people)',\n",
       "       'Rural population (ten thousand people)'],\n",
       "      dtype='object')"
      ]
     },
     "execution_count": 27,
     "metadata": {},
     "output_type": "execute_result"
    }
   ],
   "source": [
    "df.columns"
   ]
  },
  {
   "cell_type": "code",
   "execution_count": 35,
   "id": "a7570a2b-d1ec-4838-a41d-accf832f3813",
   "metadata": {},
   "outputs": [
    {
     "data": {
      "text/html": [
       "<div>\n",
       "<style scoped>\n",
       "    .dataframe tbody tr th:only-of-type {\n",
       "        vertical-align: middle;\n",
       "    }\n",
       "\n",
       "    .dataframe tbody tr th {\n",
       "        vertical-align: top;\n",
       "    }\n",
       "\n",
       "    .dataframe thead th {\n",
       "        text-align: right;\n",
       "    }\n",
       "</style>\n",
       "<table border=\"1\" class=\"dataframe\">\n",
       "  <thead>\n",
       "    <tr style=\"text-align: right;\">\n",
       "      <th></th>\n",
       "      <th>Unnamed: 0</th>\n",
       "      <th>At the end of the total population (ten thousand people)</th>\n",
       "      <th>The male population (ten thousand people)</th>\n",
       "      <th>Female population (ten thousand people)</th>\n",
       "      <th>Urban population (ten thousand people)</th>\n",
       "      <th>Rural population (ten thousand people)</th>\n",
       "    </tr>\n",
       "  </thead>\n",
       "  <tbody>\n",
       "    <tr>\n",
       "      <th>count</th>\n",
       "      <td>73.000000</td>\n",
       "      <td>73.000000</td>\n",
       "      <td>73.000000</td>\n",
       "      <td>73.000000</td>\n",
       "      <td>73.000000</td>\n",
       "      <td>73.000000</td>\n",
       "    </tr>\n",
       "    <tr>\n",
       "      <th>mean</th>\n",
       "      <td>1985.000000</td>\n",
       "      <td>102979.383562</td>\n",
       "      <td>52929.726027</td>\n",
       "      <td>50049.643836</td>\n",
       "      <td>34245.178082</td>\n",
       "      <td>68734.191781</td>\n",
       "    </tr>\n",
       "    <tr>\n",
       "      <th>std</th>\n",
       "      <td>21.217131</td>\n",
       "      <td>28271.718602</td>\n",
       "      <td>14414.860351</td>\n",
       "      <td>13859.803827</td>\n",
       "      <td>25664.214559</td>\n",
       "      <td>12361.612994</td>\n",
       "    </tr>\n",
       "    <tr>\n",
       "      <th>min</th>\n",
       "      <td>1949.000000</td>\n",
       "      <td>54167.000000</td>\n",
       "      <td>28145.000000</td>\n",
       "      <td>26022.000000</td>\n",
       "      <td>5765.000000</td>\n",
       "      <td>48402.000000</td>\n",
       "    </tr>\n",
       "    <tr>\n",
       "      <th>25%</th>\n",
       "      <td>1967.000000</td>\n",
       "      <td>76368.000000</td>\n",
       "      <td>39115.000000</td>\n",
       "      <td>37253.000000</td>\n",
       "      <td>13548.000000</td>\n",
       "      <td>55668.000000</td>\n",
       "    </tr>\n",
       "    <tr>\n",
       "      <th>50%</th>\n",
       "      <td>1985.000000</td>\n",
       "      <td>105851.000000</td>\n",
       "      <td>54725.000000</td>\n",
       "      <td>51126.000000</td>\n",
       "      <td>25094.000000</td>\n",
       "      <td>70518.000000</td>\n",
       "    </tr>\n",
       "    <tr>\n",
       "      <th>75%</th>\n",
       "      <td>2003.000000</td>\n",
       "      <td>129227.000000</td>\n",
       "      <td>66556.000000</td>\n",
       "      <td>62671.000000</td>\n",
       "      <td>52376.000000</td>\n",
       "      <td>80174.000000</td>\n",
       "    </tr>\n",
       "    <tr>\n",
       "      <th>max</th>\n",
       "      <td>2021.000000</td>\n",
       "      <td>141260.000000</td>\n",
       "      <td>72357.000000</td>\n",
       "      <td>68969.000000</td>\n",
       "      <td>91425.000000</td>\n",
       "      <td>85947.000000</td>\n",
       "    </tr>\n",
       "  </tbody>\n",
       "</table>\n",
       "</div>"
      ],
      "text/plain": [
       "        Unnamed: 0  At the end of the total population (ten thousand people)  \\\n",
       "count    73.000000                                          73.000000          \n",
       "mean   1985.000000                                      102979.383562          \n",
       "std      21.217131                                       28271.718602          \n",
       "min    1949.000000                                       54167.000000          \n",
       "25%    1967.000000                                       76368.000000          \n",
       "50%    1985.000000                                      105851.000000          \n",
       "75%    2003.000000                                      129227.000000          \n",
       "max    2021.000000                                      141260.000000          \n",
       "\n",
       "       The male population (ten thousand people)  \\\n",
       "count                                  73.000000   \n",
       "mean                                52929.726027   \n",
       "std                                 14414.860351   \n",
       "min                                 28145.000000   \n",
       "25%                                 39115.000000   \n",
       "50%                                 54725.000000   \n",
       "75%                                 66556.000000   \n",
       "max                                 72357.000000   \n",
       "\n",
       "       Female population (ten thousand people)  \\\n",
       "count                                73.000000   \n",
       "mean                              50049.643836   \n",
       "std                               13859.803827   \n",
       "min                               26022.000000   \n",
       "25%                               37253.000000   \n",
       "50%                               51126.000000   \n",
       "75%                               62671.000000   \n",
       "max                               68969.000000   \n",
       "\n",
       "       Urban population (ten thousand people)  \\\n",
       "count                               73.000000   \n",
       "mean                             34245.178082   \n",
       "std                              25664.214559   \n",
       "min                               5765.000000   \n",
       "25%                              13548.000000   \n",
       "50%                              25094.000000   \n",
       "75%                              52376.000000   \n",
       "max                              91425.000000   \n",
       "\n",
       "       Rural population (ten thousand people)  \n",
       "count                               73.000000  \n",
       "mean                             68734.191781  \n",
       "std                              12361.612994  \n",
       "min                              48402.000000  \n",
       "25%                              55668.000000  \n",
       "50%                              70518.000000  \n",
       "75%                              80174.000000  \n",
       "max                              85947.000000  "
      ]
     },
     "execution_count": 35,
     "metadata": {},
     "output_type": "execute_result"
    }
   ],
   "source": [
    "df.describe()"
   ]
  },
  {
   "cell_type": "markdown",
   "id": "ef7dca61-f444-46d9-8197-4c94955ad7e7",
   "metadata": {},
   "source": [
    "## Checking for null/missing values in the dataset"
   ]
  },
  {
   "cell_type": "code",
   "execution_count": 41,
   "id": "dab9d5b5-8e60-4b33-8c6b-211f0e63a771",
   "metadata": {},
   "outputs": [
    {
     "data": {
      "text/plain": [
       "Unnamed: 0                                                  0\n",
       "At the end of the total population (ten thousand people)    0\n",
       "The male population (ten thousand people)                   0\n",
       "Female population (ten thousand people)                     0\n",
       "Urban population (ten thousand people)                      0\n",
       "Rural population (ten thousand people)                      0\n",
       "dtype: int64"
      ]
     },
     "execution_count": 41,
     "metadata": {},
     "output_type": "execute_result"
    }
   ],
   "source": [
    "df.isnull().sum()"
   ]
  },
  {
   "cell_type": "markdown",
   "id": "b33de655-b58e-407b-a2c5-59201048e46b",
   "metadata": {},
   "source": [
    "## Checking for duplicate values"
   ]
  },
  {
   "cell_type": "code",
   "execution_count": 45,
   "id": "009f486e-834c-4845-9892-b08125b7ecc5",
   "metadata": {},
   "outputs": [
    {
     "data": {
      "text/plain": [
       "0"
      ]
     },
     "execution_count": 45,
     "metadata": {},
     "output_type": "execute_result"
    }
   ],
   "source": [
    "df.duplicated().sum()"
   ]
  },
  {
   "cell_type": "markdown",
   "id": "9b089642-e1a7-45ff-8224-0117e86bce66",
   "metadata": {},
   "source": [
    "## Simplify column name for easier access in the code"
   ]
  },
  {
   "cell_type": "code",
   "execution_count": 54,
   "id": "7d904da5-91fa-4cc6-86b4-fad03d851717",
   "metadata": {},
   "outputs": [],
   "source": [
    "years = df['Unnamed: 0']\n",
    "male_population = df['The male population (ten thousand people)']\n",
    "female_population = df['Female population (ten thousand people)']"
   ]
  },
  {
   "cell_type": "markdown",
   "id": "2ab161a5-e1e8-41df-a24f-453d8ba9ba01",
   "metadata": {},
   "source": [
    "# Data Visualization"
   ]
  },
  {
   "cell_type": "code",
   "execution_count": 57,
   "id": "92753573-9c2d-4b8d-a510-ef54f50dca7d",
   "metadata": {},
   "outputs": [
    {
     "data": {
      "image/png": "[encoded data removed]",
      "text/plain": [
       "<Figure size 1200x600 with 1 Axes>"
      ]
     },
     "metadata": {},
     "output_type": "display_data"
    }
   ],
   "source": [
    "plt.figure(figsize=(12,6))\n",
    "\n",
    "plt.bar(years - 0.2, male_population, width=0.4, label='Male_population', color='blue')\n",
    "plt.bar(years + 0.2, female_population, width=0.4, label='Female_population', color='red')   \n",
    "\n",
    "plt.xlabel(\"Year\")\n",
    "plt.ylabel(\"Population (in ten thousand)\")\n",
    "plt.title('Distribution of Male and Female Population in China Over the Years')\n",
    "plt.legend()\n",
    "\n",
    "plt.xticks(rotation=45)\n",
    "plt.show()"
   ]
  },
  {
   "cell_type": "markdown",
   "id": "4a574400-43fe-48e3-9770-a5be57146b33",
   "metadata": {},
   "source": [
    "# Second Dataset"
   ]
  },
  {
   "cell_type": "code",
   "execution_count": 145,
   "id": "2ae8bdfe-34dd-461f-b98f-74d9b5f37b7a",
   "metadata": {},
   "outputs": [
    {
     "data": {
      "text/html": [
       "<div>\n",
       "<style scoped>\n",
       "    .dataframe tbody tr th:only-of-type {\n",
       "        vertical-align: middle;\n",
       "    }\n",
       "\n",
       "    .dataframe tbody tr th {\n",
       "        vertical-align: top;\n",
       "    }\n",
       "\n",
       "    .dataframe thead th {\n",
       "        text-align: right;\n",
       "    }\n",
       "</style>\n",
       "<table border=\"1\" class=\"dataframe\">\n",
       "  <thead>\n",
       "    <tr style=\"text-align: right;\">\n",
       "      <th></th>\n",
       "      <th>COUNTRY</th>\n",
       "      <th>Country</th>\n",
       "      <th>DSEX</th>\n",
       "      <th>Gender</th>\n",
       "      <th>Year</th>\n",
       "      <th>Value</th>\n",
       "    </tr>\n",
       "  </thead>\n",
       "  <tbody>\n",
       "    <tr>\n",
       "      <th>0</th>\n",
       "      <td>AUS</td>\n",
       "      <td>Australia</td>\n",
       "      <td>1</td>\n",
       "      <td>Males</td>\n",
       "      <td>2002</td>\n",
       "      <td>9753133.0</td>\n",
       "    </tr>\n",
       "    <tr>\n",
       "      <th>1</th>\n",
       "      <td>AUS</td>\n",
       "      <td>Australia</td>\n",
       "      <td>1</td>\n",
       "      <td>Males</td>\n",
       "      <td>2003</td>\n",
       "      <td>9873447.0</td>\n",
       "    </tr>\n",
       "    <tr>\n",
       "      <th>2</th>\n",
       "      <td>AUS</td>\n",
       "      <td>Australia</td>\n",
       "      <td>1</td>\n",
       "      <td>Males</td>\n",
       "      <td>2004</td>\n",
       "      <td>9990513.0</td>\n",
       "    </tr>\n",
       "    <tr>\n",
       "      <th>3</th>\n",
       "      <td>AUS</td>\n",
       "      <td>Australia</td>\n",
       "      <td>1</td>\n",
       "      <td>Males</td>\n",
       "      <td>2005</td>\n",
       "      <td>10121438.0</td>\n",
       "    </tr>\n",
       "    <tr>\n",
       "      <th>4</th>\n",
       "      <td>AUS</td>\n",
       "      <td>Australia</td>\n",
       "      <td>1</td>\n",
       "      <td>Males</td>\n",
       "      <td>2006</td>\n",
       "      <td>10257418.0</td>\n",
       "    </tr>\n",
       "    <tr>\n",
       "      <th>...</th>\n",
       "      <td>...</td>\n",
       "      <td>...</td>\n",
       "      <td>...</td>\n",
       "      <td>...</td>\n",
       "      <td>...</td>\n",
       "      <td>...</td>\n",
       "    </tr>\n",
       "    <tr>\n",
       "      <th>651</th>\n",
       "      <td>USA</td>\n",
       "      <td>United States</td>\n",
       "      <td>2</td>\n",
       "      <td>Females</td>\n",
       "      <td>2008</td>\n",
       "      <td>154509976.0</td>\n",
       "    </tr>\n",
       "    <tr>\n",
       "      <th>652</th>\n",
       "      <td>USA</td>\n",
       "      <td>United States</td>\n",
       "      <td>2</td>\n",
       "      <td>Females</td>\n",
       "      <td>2009</td>\n",
       "      <td>154662649.0</td>\n",
       "    </tr>\n",
       "    <tr>\n",
       "      <th>653</th>\n",
       "      <td>USA</td>\n",
       "      <td>United States</td>\n",
       "      <td>2</td>\n",
       "      <td>Females</td>\n",
       "      <td>2010</td>\n",
       "      <td>155915671.0</td>\n",
       "    </tr>\n",
       "    <tr>\n",
       "      <th>654</th>\n",
       "      <td>USA</td>\n",
       "      <td>United States</td>\n",
       "      <td>2</td>\n",
       "      <td>Females</td>\n",
       "      <td>2011</td>\n",
       "      <td>157539944.0</td>\n",
       "    </tr>\n",
       "    <tr>\n",
       "      <th>655</th>\n",
       "      <td>USA</td>\n",
       "      <td>United States</td>\n",
       "      <td>2</td>\n",
       "      <td>Females</td>\n",
       "      <td>2012</td>\n",
       "      <td>158635141.0</td>\n",
       "    </tr>\n",
       "  </tbody>\n",
       "</table>\n",
       "<p>656 rows × 6 columns</p>\n",
       "</div>"
      ],
      "text/plain": [
       "    COUNTRY        Country  DSEX   Gender  Year        Value\n",
       "0       AUS      Australia     1    Males  2002    9753133.0\n",
       "1       AUS      Australia     1    Males  2003    9873447.0\n",
       "2       AUS      Australia     1    Males  2004    9990513.0\n",
       "3       AUS      Australia     1    Males  2005   10121438.0\n",
       "4       AUS      Australia     1    Males  2006   10257418.0\n",
       "..      ...            ...   ...      ...   ...          ...\n",
       "651     USA  United States     2  Females  2008  154509976.0\n",
       "652     USA  United States     2  Females  2009  154662649.0\n",
       "653     USA  United States     2  Females  2010  155915671.0\n",
       "654     USA  United States     2  Females  2011  157539944.0\n",
       "655     USA  United States     2  Females  2012  158635141.0\n",
       "\n",
       "[656 rows x 6 columns]"
      ]
     },
     "execution_count": 145,
     "metadata": {},
     "output_type": "execute_result"
    }
   ],
   "source": [
    "data = pd.read_excel('gender_dataset.xlsx')\n",
    "data"
   ]
  },
  {
   "cell_type": "code",
   "execution_count": 147,
   "id": "925e8168-6f55-4f0a-acb6-6767002bfabd",
   "metadata": {},
   "outputs": [
    {
     "data": {
      "text/plain": [
       "COUNTRY    0\n",
       "Country    0\n",
       "DSEX       0\n",
       "Gender     0\n",
       "Year       0\n",
       "Value      0\n",
       "dtype: int64"
      ]
     },
     "execution_count": 147,
     "metadata": {},
     "output_type": "execute_result"
    }
   ],
   "source": [
    "data.isnull().sum()"
   ]
  },
  {
   "cell_type": "code",
   "execution_count": 157,
   "id": "0fbad05c-075e-4c6d-a8cf-d6233f5dd2fa",
   "metadata": {},
   "outputs": [
    {
     "name": "stdin",
     "output_type": "stream",
     "text": [
      "Enter any country which is present in dataset Canada\n"
     ]
    },
    {
     "name": "stdout",
     "output_type": "stream",
     "text": [
      "   COUNTRY Country  DSEX   Gender  Year       Value\n",
      "66     CAN  Canada     1    Males  2003  15532438.0\n",
      "67     CAN  Canada     1    Males  2004  15538572.0\n",
      "68     CAN  Canada     1    Males  2005  15842787.0\n",
      "69     CAN  Canada     1    Males  2006  15995582.0\n",
      "70     CAN  Canada     1    Males  2007  16170723.0\n",
      "71     CAN  Canada     1    Males  2008  16326141.0\n",
      "72     CAN  Canada     1    Males  2009  16524504.0\n",
      "73     CAN  Canada     1    Males  2010  16526676.0\n",
      "74     CAN  Canada     1    Males  2011  16826122.5\n",
      "75     CAN  Canada     1    Males  2012  17113541.0\n",
      "76     CAN  Canada     2  Females  2003  15829173.0\n",
      "77     CAN  Canada     2  Females  2004  15834015.0\n",
      "78     CAN  Canada     2  Females  2005  16146667.0\n",
      "79     CAN  Canada     2  Females  2006  16303914.0\n",
      "80     CAN  Canada     2  Females  2007  16478759.0\n",
      "81     CAN  Canada     2  Females  2008  16601231.0\n",
      "82     CAN  Canada     2  Females  2009  16802833.0\n",
      "83     CAN  Canada     2  Females  2010  16807738.5\n",
      "84     CAN  Canada     2  Females  2011  17101813.0\n",
      "85     CAN  Canada     2  Females  2012  17379104.5\n"
     ]
    }
   ],
   "source": [
    "country_name = input(\"Enter any country which is present in dataset\").lower()\n",
    "\n",
    "# Filter the data for user's country_name\n",
    "country_data = data[data['Country'] == country_name]\n",
    "print(country_data)"
   ]
  },
  {
   "cell_type": "code",
   "execution_count": 159,
   "id": "33443eb8-4741-47b6-997c-d3652c6355fb",
   "metadata": {},
   "outputs": [
    {
     "name": "stdout",
     "output_type": "stream",
     "text": [
      "Gender     Females       Males\n",
      "Year                          \n",
      "2003    15829173.0  15532438.0\n",
      "2004    15834015.0  15538572.0\n",
      "2005    16146667.0  15842787.0\n",
      "2006    16303914.0  15995582.0\n",
      "2007    16478759.0  16170723.0\n",
      "2008    16601231.0  16326141.0\n",
      "2009    16802833.0  16524504.0\n",
      "2010    16807738.5  16526676.0\n",
      "2011    17101813.0  16826122.5\n",
      "2012    17379104.5  17113541.0\n"
     ]
    }
   ],
   "source": [
    "# Sum the population values for each gender by year\n",
    "country_population = country_data.groupby(['Year', 'Gender'])['Value'].sum().unstack()\n",
    "print(country_population)"
   ]
  },
  {
   "cell_type": "code",
   "execution_count": 161,
   "id": "03624c3b-a10e-444a-bcca-c4254a239000",
   "metadata": {},
   "outputs": [
    {
     "data": {
      "image/png": "[encoded data removed]",
      "text/plain": [
       "<Figure size 640x480 with 1 Axes>"
      ]
     },
     "metadata": {},
     "output_type": "display_data"
    }
   ],
   "source": [
    "# Create a line plot to visualize the population over years for each gender\n",
    "country_population.plot(kind='line', marker='o')\n",
    "\n",
    "#Labelling\n",
    "plt.xlabel('Year')\n",
    "plt.ylabel('Population')\n",
    "plt.title(f'Population by Gender Over Years in {country_name}')\n",
    "plt.legend(title='Gender')\n",
    "plt.grid(True)\n",
    "plt.show()"
   ]
  },
  {
   "cell_type": "markdown",
   "id": "a9c23ea3-c694-4905-b198-da4cd046daaa",
   "metadata": {},
   "source": [
    "# Third Dataset"
   ]
  },
  {
   "cell_type": "markdown",
   "id": "a3410e00-498b-481b-8a86-8f3fc5e0ec28",
   "metadata": {},
   "source": [
    "The dataset contains population information categorized by age groups for different countries."
   ]
  },
  {
   "cell_type": "code",
   "execution_count": 124,
   "id": "539e662b-d21e-417b-b603-602d940cf581",
   "metadata": {},
   "outputs": [
    {
     "data": {
      "text/html": [
       "<div>\n",
       "<style scoped>\n",
       "    .dataframe tbody tr th:only-of-type {\n",
       "        vertical-align: middle;\n",
       "    }\n",
       "\n",
       "    .dataframe tbody tr th {\n",
       "        vertical-align: top;\n",
       "    }\n",
       "\n",
       "    .dataframe thead th {\n",
       "        text-align: right;\n",
       "    }\n",
       "</style>\n",
       "<table border=\"1\" class=\"dataframe\">\n",
       "  <thead>\n",
       "    <tr style=\"text-align: right;\">\n",
       "      <th></th>\n",
       "      <th>Country</th>\n",
       "      <th>Total</th>\n",
       "      <th>65+</th>\n",
       "      <th>25-64 years</th>\n",
       "      <th>15-24 years</th>\n",
       "      <th>5-14 years</th>\n",
       "      <th>0-4 years</th>\n",
       "    </tr>\n",
       "  </thead>\n",
       "  <tbody>\n",
       "    <tr>\n",
       "      <th>0</th>\n",
       "      <td>Afghanistan</td>\n",
       "      <td>40099460</td>\n",
       "      <td>964016</td>\n",
       "      <td>12995277</td>\n",
       "      <td>8727160</td>\n",
       "      <td>10922454</td>\n",
       "      <td>6490554</td>\n",
       "    </tr>\n",
       "    <tr>\n",
       "      <th>1</th>\n",
       "      <td>Albania</td>\n",
       "      <td>2854710</td>\n",
       "      <td>463442</td>\n",
       "      <td>1527360</td>\n",
       "      <td>399113</td>\n",
       "      <td>323402</td>\n",
       "      <td>141393</td>\n",
       "    </tr>\n",
       "    <tr>\n",
       "      <th>2</th>\n",
       "      <td>Algeria</td>\n",
       "      <td>44177964</td>\n",
       "      <td>2731079</td>\n",
       "      <td>21871300</td>\n",
       "      <td>6007614</td>\n",
       "      <td>8697129</td>\n",
       "      <td>4870841</td>\n",
       "    </tr>\n",
       "    <tr>\n",
       "      <th>3</th>\n",
       "      <td>American Samoa</td>\n",
       "      <td>45056</td>\n",
       "      <td>3088</td>\n",
       "      <td>22433</td>\n",
       "      <td>7141</td>\n",
       "      <td>8365</td>\n",
       "      <td>4029</td>\n",
       "    </tr>\n",
       "    <tr>\n",
       "      <th>4</th>\n",
       "      <td>Andorra</td>\n",
       "      <td>79057</td>\n",
       "      <td>11499</td>\n",
       "      <td>48651</td>\n",
       "      <td>8570</td>\n",
       "      <td>7797</td>\n",
       "      <td>2540</td>\n",
       "    </tr>\n",
       "    <tr>\n",
       "      <th>...</th>\n",
       "      <td>...</td>\n",
       "      <td>...</td>\n",
       "      <td>...</td>\n",
       "      <td>...</td>\n",
       "      <td>...</td>\n",
       "      <td>...</td>\n",
       "      <td>...</td>\n",
       "    </tr>\n",
       "    <tr>\n",
       "      <th>230</th>\n",
       "      <td>Wallis and Futuna</td>\n",
       "      <td>11654</td>\n",
       "      <td>1521</td>\n",
       "      <td>5767</td>\n",
       "      <td>1652</td>\n",
       "      <td>1961</td>\n",
       "      <td>753</td>\n",
       "    </tr>\n",
       "    <tr>\n",
       "      <th>231</th>\n",
       "      <td>Western Sahara</td>\n",
       "      <td>565590</td>\n",
       "      <td>31718</td>\n",
       "      <td>314200</td>\n",
       "      <td>80572</td>\n",
       "      <td>92147</td>\n",
       "      <td>46953</td>\n",
       "    </tr>\n",
       "    <tr>\n",
       "      <th>232</th>\n",
       "      <td>Yemen</td>\n",
       "      <td>32981644</td>\n",
       "      <td>886890</td>\n",
       "      <td>12210659</td>\n",
       "      <td>6733620</td>\n",
       "      <td>8436417</td>\n",
       "      <td>4714059</td>\n",
       "    </tr>\n",
       "    <tr>\n",
       "      <th>233</th>\n",
       "      <td>Zambia</td>\n",
       "      <td>19473132</td>\n",
       "      <td>338628</td>\n",
       "      <td>6734346</td>\n",
       "      <td>3975624</td>\n",
       "      <td>5351636</td>\n",
       "      <td>3072899</td>\n",
       "    </tr>\n",
       "    <tr>\n",
       "      <th>234</th>\n",
       "      <td>Zimbabwe</td>\n",
       "      <td>15993525</td>\n",
       "      <td>537915</td>\n",
       "      <td>5572892</td>\n",
       "      <td>3342436</td>\n",
       "      <td>4240570</td>\n",
       "      <td>2299712</td>\n",
       "    </tr>\n",
       "  </tbody>\n",
       "</table>\n",
       "<p>235 rows × 7 columns</p>\n",
       "</div>"
      ],
      "text/plain": [
       "               Country     Total      65+  25-64 years  15-24 years  \\\n",
       "0          Afghanistan  40099460   964016     12995277      8727160   \n",
       "1              Albania   2854710   463442      1527360       399113   \n",
       "2              Algeria  44177964  2731079     21871300      6007614   \n",
       "3       American Samoa     45056     3088        22433         7141   \n",
       "4              Andorra     79057    11499        48651         8570   \n",
       "..                 ...       ...      ...          ...          ...   \n",
       "230  Wallis and Futuna     11654     1521         5767         1652   \n",
       "231     Western Sahara    565590    31718       314200        80572   \n",
       "232              Yemen  32981644   886890     12210659      6733620   \n",
       "233             Zambia  19473132   338628      6734346      3975624   \n",
       "234           Zimbabwe  15993525   537915      5572892      3342436   \n",
       "\n",
       "     5-14 years  0-4 years  \n",
       "0      10922454    6490554  \n",
       "1        323402     141393  \n",
       "2       8697129    4870841  \n",
       "3          8365       4029  \n",
       "4          7797       2540  \n",
       "..          ...        ...  \n",
       "230        1961        753  \n",
       "231       92147      46953  \n",
       "232     8436417    4714059  \n",
       "233     5351636    3072899  \n",
       "234     4240570    2299712  \n",
       "\n",
       "[235 rows x 7 columns]"
      ]
     },
     "execution_count": 124,
     "metadata": {},
     "output_type": "execute_result"
    }
   ],
   "source": [
    "age_data = pd.read_csv('age_dataset.csv')\n",
    "age_data"
   ]
  },
  {
   "cell_type": "code",
   "execution_count": 136,
   "id": "6aa38e2c-6c73-4708-8d89-3ca5600dbc75",
   "metadata": {},
   "outputs": [
    {
     "name": "stdin",
     "output_type": "stream",
     "text": [
      "Enter any country name from dataset Austria\n"
     ]
    },
    {
     "data": {
      "image/png": "[encoded data removed]",
      "text/plain": [
       "<Figure size 1000x600 with 1 Axes>"
      ]
     },
     "metadata": {},
     "output_type": "display_data"
    }
   ],
   "source": [
    "country_name = input(\"Enter any country name from dataset\")\n",
    "# Filter the dataset for Austria\n",
    "country_data = age_data[age_data['Country'] == country_name]\n",
    "\n",
    "# Sum the populations for each age group for user's country_name\n",
    "age_groups = ['65+', '25-64 years', '15-24 years', '5-14 years', '0-4 years']\n",
    "country_age_sums = country_data[age_groups].sum()\n",
    "\n",
    "# Plotting\n",
    "plt.figure(figsize=(10, 6))\n",
    "plt.bar(age_groups, country_age_sums, color='skyblue')\n",
    "plt.xlabel('Age Groups')\n",
    "plt.ylabel('Total Population')\n",
    "plt.title(f'Age Distribution in {country_name}')\n",
    "plt.xticks(rotation=45)\n",
    "\n",
    "# Show plot\n",
    "plt.show()\n"
   ]
  }
 ],
 "metadata": {
  "kernelspec": {
   "display_name": "Python 3 (ipykernel)",
   "language": "python",
   "name": "python3"
  },
  "language_info": {
   "codemirror_mode": {
    "name": "ipython",
    "version": 3
   },
   "file_extension": ".py",
   "mimetype": "text/x-python",
   "name": "python",
   "nbconvert_exporter": "python",
   "pygments_lexer": "ipython3",
   "version": "3.11.7"
  }
 },
 "nbformat": 4,
 "nbformat_minor": 5
}
